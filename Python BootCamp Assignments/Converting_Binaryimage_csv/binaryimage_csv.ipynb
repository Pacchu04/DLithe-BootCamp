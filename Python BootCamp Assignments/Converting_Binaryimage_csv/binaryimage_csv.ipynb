{
 "cells": [
  {
   "cell_type": "markdown",
   "metadata": {},
   "source": [
    "### Converting a binary image to a CSV file involves below Process\n",
    "### 1.Read the image using Pillow.\n",
    "### 2.Convert the image data to a DataFrame.\n",
    "### 3.Write the DataFrame to a CSV file."
   ]
  },
  {
   "cell_type": "code",
   "execution_count": 5,
   "metadata": {},
   "outputs": [
    {
     "name": "stdout",
     "output_type": "stream",
     "text": [
      "(161, 313)\n"
     ]
    }
   ],
   "source": [
    "import numpy as np\n",
    "import pandas as pd\n",
    "from PIL import Image\n",
    "\n",
    "# Read the image using Pillow\n",
    "image = Image.open('images.jpg').convert('L')  # 'L' mode converts the image to grayscale\n",
    "\n",
    "# Convert the image to a NumPy array\n",
    "image_array = np.array(image)\n",
    "\n",
    "# Convert the NumPy array to a DataFrame\n",
    "df = pd.DataFrame(image_array)\n",
    "\n",
    "print(df.shape)\n",
    "# Write the DataFrame to a CSV file\n",
    "df.to_csv('output_image.csv', index=False, header=False)\n"
   ]
  },
  {
   "cell_type": "code",
   "execution_count": 3,
   "metadata": {},
   "outputs": [],
   "source": [
    "image.show()"
   ]
  },
  {
   "cell_type": "markdown",
   "metadata": {},
   "source": [
    "### For a color image, each pixel has three values (R, G, B)."
   ]
  },
  {
   "cell_type": "code",
   "execution_count": 6,
   "metadata": {},
   "outputs": [],
   "source": [
    "# Read the image using Pillow\n",
    "image = Image.open('images.jpg').convert('RGB')  # 'RGB' mode keeps the image in color\n",
    "\n",
    "# Convert the image to a NumPy array\n",
    "image_array = np.array(image)\n",
    "\n",
    "# Reshape the array to have each pixel's RGB values as a separate row\n",
    "reshaped_array = image_array.reshape(-1, image_array.shape[2])\n",
    "\n",
    "# Convert the reshaped array to a DataFrame\n",
    "df = pd.DataFrame(reshaped_array, columns=['R', 'G', 'B'])\n",
    "\n",
    "# Write the DataFrame to a CSV file\n",
    "df.to_csv('output_image1.csv', index=False)"
   ]
  },
  {
   "cell_type": "markdown",
   "metadata": {},
   "source": [
    "### Using OpenCV and NumPy\n",
    "OpenCV is a powerful library for image processing. You can use it along with NumPy to convert an image to a CSV file"
   ]
  },
  {
   "cell_type": "code",
   "execution_count": 9,
   "metadata": {},
   "outputs": [],
   "source": [
    "import cv2\n",
    "import numpy as np\n",
    "import pandas as pd\n",
    "\n",
    "# Read the image using OpenCV\n",
    "image = cv2.imread('img.jpg', cv2.IMREAD_GRAYSCALE)\n",
    "\n",
    "# Convert the image to a DataFrame\n",
    "df = pd.DataFrame(image)\n",
    "\n",
    "# Write the DataFrame to a CSV file\n",
    "df.to_csv('output_image2.csv', index=False, header=False)\n"
   ]
  },
  {
   "cell_type": "code",
   "execution_count": 11,
   "metadata": {},
   "outputs": [
    {
     "data": {
      "text/plain": [
       "(300, 600)"
      ]
     },
     "execution_count": 11,
     "metadata": {},
     "output_type": "execute_result"
    }
   ],
   "source": [
    "df.shape"
   ]
  },
  {
   "cell_type": "markdown",
   "metadata": {},
   "source": [
    "### Using ImageIO and NumPy"
   ]
  },
  {
   "cell_type": "code",
   "execution_count": 12,
   "metadata": {},
   "outputs": [
    {
     "name": "stderr",
     "output_type": "stream",
     "text": [
      "C:\\Users\\Prajwal\\AppData\\Local\\Temp\\ipykernel_24772\\211932061.py:6: DeprecationWarning: Starting with ImageIO v3 the behavior of this function will switch to that of iio.v3.imread. To keep the current behavior (and make this warning disappear) use `import imageio.v2 as imageio` or call `imageio.v2.imread` directly.\n",
      "  image = imageio.imread('img.jpg')\n"
     ]
    }
   ],
   "source": [
    "import imageio\n",
    "import numpy as np\n",
    "import pandas as pd\n",
    "\n",
    "# Read the image using ImageIO\n",
    "image = imageio.imread('img.jpg')\n",
    "\n",
    "# Convert the image to a NumPy array and reshape it\n",
    "reshaped_array = image.reshape(-1, image.shape[2])\n",
    "\n",
    "# Convert the reshaped array to a DataFrame\n",
    "df = pd.DataFrame(reshaped_array, columns=['R', 'G', 'B'])\n",
    "\n",
    "# Write the DataFrame to a CSV file\n",
    "df.to_csv('output_image3.csv', index=False)\n"
   ]
  },
  {
   "cell_type": "code",
   "execution_count": null,
   "metadata": {},
   "outputs": [],
   "source": []
  }
 ],
 "metadata": {
  "kernelspec": {
   "display_name": "Python 3",
   "language": "python",
   "name": "python3"
  },
  "language_info": {
   "codemirror_mode": {
    "name": "ipython",
    "version": 3
   },
   "file_extension": ".py",
   "mimetype": "text/x-python",
   "name": "python",
   "nbconvert_exporter": "python",
   "pygments_lexer": "ipython3",
   "version": "3.10.0"
  }
 },
 "nbformat": 4,
 "nbformat_minor": 2
}
